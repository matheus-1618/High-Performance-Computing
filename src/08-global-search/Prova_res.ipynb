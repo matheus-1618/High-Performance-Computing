{
  "nbformat": 4,
  "nbformat_minor": 0,
  "metadata": {
    "colab": {
      "provenance": [],
      "authorship_tag": "ABX9TyORDxvzJ8Q6JN22Fzyjdg7w",
      "include_colab_link": true
    },
    "kernelspec": {
      "name": "python3",
      "display_name": "Python 3"
    },
    "language_info": {
      "name": "python"
    }
  },
  "cells": [
    {
      "cell_type": "markdown",
      "metadata": {
        "id": "view-in-github",
        "colab_type": "text"
      },
      "source": [
        "<a href=\"https://colab.research.google.com/github/matheus-1618/High-Performance-Computing/blob/master/material/aulas/08-busca-global/Prova_res.ipynb\" target=\"_parent\"><img src=\"https://colab.research.google.com/assets/colab-badge.svg\" alt=\"Open In Colab\"/></a>"
      ]
    },
    {
      "cell_type": "markdown",
      "source": [
        "## Questao 1\n",
        "Ideia: Criar vetores para armazenar coordenadas, e um vetor de indices.\n",
        "iterar sobre todos as possibilidades apos sortear um numero aleatorio.\n"
      ],
      "metadata": {
        "id": "v8Mv_ZipXKY-"
      }
    },
    {
      "cell_type": "code",
      "source": [
        "! unzip drive-download-20231008T164919Z-001.zip"
      ],
      "metadata": {
        "colab": {
          "base_uri": "https://localhost:8080/"
        },
        "id": "mIk8jSdzMzum",
        "outputId": "ebf92709-bfe1-4249-a633-608c01f51007"
      },
      "execution_count": 3,
      "outputs": [
        {
          "output_type": "stream",
          "name": "stdout",
          "text": [
            "Archive:  drive-download-20231008T164919Z-001.zip\n",
            "  inflating: questao1_input3.txt     \n",
            "  inflating: questao1_input2.txt     \n",
            "  inflating: questao1_input1.txt     \n",
            "  inflating: questao1_input4.txt     \n"
          ]
        }
      ]
    },
    {
      "cell_type": "code",
      "execution_count": 122,
      "metadata": {
        "colab": {
          "base_uri": "https://localhost:8080/"
        },
        "id": "9g03GAHcJadO",
        "outputId": "7750b323-c0d1-4c80-abdc-1db4fd4c5f7c"
      },
      "outputs": [
        {
          "output_type": "stream",
          "name": "stdout",
          "text": [
            "Overwriting q1.cpp\n"
          ]
        }
      ],
      "source": [
        "%%writefile q1.cpp\n",
        "#include <cmath>\n",
        "#include <random>\n",
        "#include <iostream>\n",
        "#include <algorithm>\n",
        "#include <vector>\n",
        "#include <cmath>\n",
        "#include <time.h>\n",
        "\n",
        "using namespace std;\n",
        "\n",
        "double distance(double lat1, double lon1, double lat2, double lon2) {\n",
        "  const double R = 6371000;\n",
        "  double phi1 = lat1 * M_PI / 180;\n",
        "  double phi2 = lat2 * M_PI / 180;\n",
        "  double dphi = (lat2 - lat1) * M_PI / 180;\n",
        "  double dlambda = (lon2 - lon1) * M_PI / 180;\n",
        "  double a = pow(sin(dphi / 2), 2) + cos(phi1) * cos(phi2) * pow(sin(dlambda / 2), 2);\n",
        "  double c = 2 * atan2(sqrt(a), sqrt(1 - a));\n",
        "  double distance = R * c;\n",
        "  return distance;\n",
        "}\n",
        "\n",
        "bool already_visited(vector<int> vec, int i){\n",
        "  for (size_t j =0; j<vec.size();j++){\n",
        "    if (vec[j] == i){\n",
        "      return true;\n",
        "    }\n",
        "  }\n",
        "  return false;\n",
        "}\n",
        "\n",
        "int main(){\n",
        "  //leitura\n",
        "  size_t size;\n",
        "  cin >> size;\n",
        "  vector<double> lat;\n",
        "  vector<double> lon;\n",
        "  for (size_t i = 0; i< size; i++){\n",
        "    double lati,loni;\n",
        "    cin >> lati >> loni;\n",
        "    lat.push_back(lati);\n",
        "    lon.push_back(loni);\n",
        "  }\n",
        "\n",
        "  vector<int> to_visit;\n",
        "  double total_distance = 0;\n",
        "  srand((unsigned)time(NULL));\n",
        "  int index = rand() % size;\n",
        "  to_visit.push_back(index);\n",
        "\n",
        "  while (to_visit.size()<size){\n",
        "    int current = to_visit.back();\n",
        "    double min_dist = 1000000000;\n",
        "    int min_dist_index = -1;\n",
        "    for (size_t i = 0; i < size; i++){\n",
        "      if (!already_visited(to_visit,i)){\n",
        "        double dis = distance(lat[current],lon[current],lat[i],lon[i]);\n",
        "        if (dis < min_dist){\n",
        "          min_dist = dis;\n",
        "          min_dist_index = i;\n",
        "        }\n",
        "      }\n",
        "    }\n",
        "    total_distance += min_dist;\n",
        "    to_visit.push_back(min_dist_index);\n",
        "  }\n",
        "\n",
        "\n",
        "  cout << \"Distancia total: \" << total_distance << endl;\n",
        "  cout << \"Sugestao de percurso:\"<<endl;\n",
        "  for (size_t j = 0; j < to_visit.size(); j++){\n",
        "    if (j == to_visit.size()-1){\n",
        "      cout << to_visit[j] +1 << endl;\n",
        "    }\n",
        "    else{\n",
        "      cout << to_visit[j] +1 << \"->\";\n",
        "    }\n",
        "  }\n",
        "\n",
        "  return 0;\n",
        "\n",
        "}"
      ]
    },
    {
      "cell_type": "code",
      "source": [
        "num_execucoes = 10\n",
        "\n",
        "for i in range(1, num_execucoes + 1):\n",
        "    !g++ -Wall -O3 -g q1.cpp -o q1\n",
        "    !cat questao1_input1.txt | ./q1\n",
        "    print()"
      ],
      "metadata": {
        "colab": {
          "base_uri": "https://localhost:8080/"
        },
        "id": "b2Xqo7aUHy2D",
        "outputId": "8ab80ca6-2b5d-471b-a05e-6f6be7b7d5a9"
      },
      "execution_count": 110,
      "outputs": [
        {
          "output_type": "stream",
          "name": "stdout",
          "text": [
            "Distancia total: 2124.84\n",
            "Sugestao de percurso:\n",
            "1->5->3->2->4\n",
            "\n",
            "Distancia total: 2124.84\n",
            "Sugestao de percurso:\n",
            "1->5->3->2->4\n",
            "\n",
            "Distancia total: 2662.17\n",
            "Sugestao de percurso:\n",
            "5->3->2->4->1\n",
            "\n",
            "Distancia total: 2124.84\n",
            "Sugestao de percurso:\n",
            "1->5->3->2->4\n",
            "\n",
            "Distancia total: 2626.4\n",
            "Sugestao de percurso:\n",
            "2->3->5->1->4\n",
            "\n",
            "Distancia total: 2378.76\n",
            "Sugestao de percurso:\n",
            "3->2->4->5->1\n",
            "\n",
            "Distancia total: 2662.17\n",
            "Sugestao de percurso:\n",
            "5->3->2->4->1\n",
            "\n",
            "Distancia total: 2124.84\n",
            "Sugestao de percurso:\n",
            "1->5->3->2->4\n",
            "\n",
            "Distancia total: 2417.17\n",
            "Sugestao de percurso:\n",
            "4->3->2->5->1\n",
            "\n",
            "Distancia total: 2378.76\n",
            "Sugestao de percurso:\n",
            "3->2->4->5->1\n",
            "\n"
          ]
        }
      ]
    },
    {
      "cell_type": "code",
      "source": [
        "for i in range(1, num_execucoes + 1):\n",
        "    !g++ -Wall -O3 -g q1.cpp -o q1\n",
        "    !cat questao1_input2.txt | ./q1\n",
        "    print()"
      ],
      "metadata": {
        "colab": {
          "base_uri": "https://localhost:8080/"
        },
        "id": "qKH683mIIwuW",
        "outputId": "3334dd53-9755-4ce9-9a05-cec2761c1232"
      },
      "execution_count": 111,
      "outputs": [
        {
          "output_type": "stream",
          "name": "stdout",
          "text": [
            "Distancia total: 2558.91\n",
            "Sugestao de percurso:\n",
            "3->8->6->1->7->2->4->5\n",
            "\n",
            "Distancia total: 2320.84\n",
            "Sugestao de percurso:\n",
            "1->7->2->4->3->8->6->5\n",
            "\n",
            "Distancia total: 3053.16\n",
            "Sugestao de percurso:\n",
            "8->6->3->4->7->2->1->5\n",
            "\n",
            "Distancia total: 2394.69\n",
            "Sugestao de percurso:\n",
            "2->7->1->8->6->3->4->5\n",
            "\n",
            "Distancia total: 2927.49\n",
            "Sugestao de percurso:\n",
            "6->8->3->4->7->2->1->5\n",
            "\n",
            "Distancia total: 2827.73\n",
            "Sugestao de percurso:\n",
            "4->3->8->6->1->7->2->5\n",
            "\n",
            "Distancia total: 2558.91\n",
            "Sugestao de percurso:\n",
            "3->8->6->1->7->2->4->5\n",
            "\n",
            "Distancia total: 3053.16\n",
            "Sugestao de percurso:\n",
            "8->6->3->4->7->2->1->5\n",
            "\n",
            "Distancia total: 2827.73\n",
            "Sugestao de percurso:\n",
            "4->3->8->6->1->7->2->5\n",
            "\n",
            "Distancia total: 3053.16\n",
            "Sugestao de percurso:\n",
            "8->6->3->4->7->2->1->5\n",
            "\n"
          ]
        }
      ]
    },
    {
      "cell_type": "code",
      "source": [
        "for i in range(1, num_execucoes + 1):\n",
        "    !g++ -Wall -O3 -g q1.cpp -o q1\n",
        "    !cat questao1_input3.txt | ./q1\n",
        "    print()"
      ],
      "metadata": {
        "colab": {
          "base_uri": "https://localhost:8080/"
        },
        "id": "ZO6-3gxUIw2m",
        "outputId": "98aed4a2-f26f-44ba-deb1-47dea83a240c"
      },
      "execution_count": 112,
      "outputs": [
        {
          "output_type": "stream",
          "name": "stdout",
          "text": [
            "Distancia total: 2630.28\n",
            "Sugestao de percurso:\n",
            "5->6->7->8->9->3->10->4->2->1\n",
            "\n",
            "Distancia total: 2783.5\n",
            "Sugestao de percurso:\n",
            "3->9->8->7->6->5->4->10->2->1\n",
            "\n",
            "Distancia total: 2849.65\n",
            "Sugestao de percurso:\n",
            "6->7->8->9->3->10->4->2->1->5\n",
            "\n",
            "Distancia total: 2932.78\n",
            "Sugestao de percurso:\n",
            "10->4->2->3->9->8->7->6->5->1\n",
            "\n",
            "Distancia total: 2849.65\n",
            "Sugestao de percurso:\n",
            "6->7->8->9->3->10->4->2->1->5\n",
            "\n",
            "Distancia total: 3005.2\n",
            "Sugestao de percurso:\n",
            "1->4->10->3->9->8->7->6->5->2\n",
            "\n",
            "Distancia total: 2783.5\n",
            "Sugestao de percurso:\n",
            "3->9->8->7->6->5->4->10->2->1\n",
            "\n",
            "Distancia total: 2849.65\n",
            "Sugestao de percurso:\n",
            "6->7->8->9->3->10->4->2->1->5\n",
            "\n",
            "Distancia total: 2783.5\n",
            "Sugestao de percurso:\n",
            "3->9->8->7->6->5->4->10->2->1\n",
            "\n",
            "Distancia total: 3005.2\n",
            "Sugestao de percurso:\n",
            "1->4->10->3->9->8->7->6->5->2\n",
            "\n"
          ]
        }
      ]
    },
    {
      "cell_type": "code",
      "source": [
        "for i in range(1, num_execucoes + 1):\n",
        "    !g++ -Wall -O3 -g q1.cpp -o q1\n",
        "    !cat questao1_input4.txt | ./q1\n",
        "    print()"
      ],
      "metadata": {
        "colab": {
          "base_uri": "https://localhost:8080/"
        },
        "id": "QXCJwdIzIw7_",
        "outputId": "4a83c686-0462-49ef-fa48-b3afab2628ca"
      },
      "execution_count": 113,
      "outputs": [
        {
          "output_type": "stream",
          "name": "stdout",
          "text": [
            "Distancia total: 6047.93\n",
            "Sugestao de percurso:\n",
            "1->2->3->4->6->5->9->10->14->13->12->11->15->8->7\n",
            "\n",
            "Distancia total: 6392.09\n",
            "Sugestao de percurso:\n",
            "15->10->14->13->12->11->4->6->5->9->8->7->3->2->1\n",
            "\n",
            "Distancia total: 6239.27\n",
            "Sugestao de percurso:\n",
            "2->1->3->4->6->5->9->10->14->13->12->11->15->8->7\n",
            "\n",
            "Distancia total: 6991.92\n",
            "Sugestao de percurso:\n",
            "6->5->9->10->14->13->12->11->4->3->2->1->7->8->15\n",
            "\n",
            "Distancia total: 6417.14\n",
            "Sugestao de percurso:\n",
            "8->15->10->14->13->12->11->4->6->5->9->7->3->2->1\n",
            "\n",
            "Distancia total: 6764.03\n",
            "Sugestao de percurso:\n",
            "4->6->5->9->10->14->13->12->11->15->8->7->3->2->1\n",
            "\n",
            "Distancia total: 6969.58\n",
            "Sugestao de percurso:\n",
            "13->14->10->9->5->6->4->3->2->1->11->12->15->8->7\n",
            "\n",
            "Distancia total: 5665.08\n",
            "Sugestao de percurso:\n",
            "12->11->14->10->13->15->8->7->9->5->6->4->3->2->1\n",
            "\n",
            "Distancia total: 6417.14\n",
            "Sugestao de percurso:\n",
            "8->15->10->14->13->12->11->4->6->5->9->7->3->2->1\n",
            "\n",
            "Distancia total: 7202.15\n",
            "Sugestao de percurso:\n",
            "3->4->6->5->9->10->14->13->12->11->15->8->7->2->1\n",
            "\n"
          ]
        }
      ]
    },
    {
      "cell_type": "code",
      "source": [
        "    !g++ -Wall -O3 -g q1.cpp -o q1\n",
        "    !cat ativiades.txt | ./q1"
      ],
      "metadata": {
        "colab": {
          "base_uri": "https://localhost:8080/"
        },
        "id": "0_z9Fq34qWAB",
        "outputId": "3bcdca71-6aed-40df-89fc-718bdfa8ba3c"
      },
      "execution_count": 126,
      "outputs": [
        {
          "output_type": "stream",
          "name": "stdout",
          "text": [
            "Distancia total: 1.08103e+06\n",
            "Sugestao de percurso:\n",
            "1->3->5->2->4\n"
          ]
        }
      ]
    },
    {
      "cell_type": "markdown",
      "source": [
        "## Questão 2\n",
        "Com relação ao problema anterior, a estrategia gulosa nos garante uma\n",
        "soluçao otima? Justifique.\n",
        "\n",
        "**Não. Apesar da estratégia gulosa conseguir uma solução adequada, nem sempre ela atinge a solução ótima, visto que dado a aleatorização do ponto inicial, pode ser que haja caminhos melhores, dada todas as possíveis permutações de trajetos que tenha uma distância total menor, fato não explorado pela estratégia gulosa nesse caso.**"
      ],
      "metadata": {
        "id": "Myf6VfNjXJM8"
      }
    },
    {
      "cell_type": "markdown",
      "source": [
        "## Questão 3\n",
        "Proponha uma estrategia de busca exaustiva para resolucao do problema\n",
        "da questao 1. Apresente um pseudo-codigo.\n",
        "\n"
      ],
      "metadata": {
        "id": "7pPUTD_6ZLYs"
      }
    },
    {
      "cell_type": "markdown",
      "source": [
        "1-Gere todas as permutações de atividades possíveis;\n",
        "\n",
        "2-Para cada permutação gerada, calcule a distancia total de cada uma.\n",
        "\n",
        "3-Guarde a menor distancia total;\n",
        "\n",
        "4-Continue gerando todas as permutações possíveis e atualizando o menor custo total até que todas as permutações tenham sido examinadas.\n",
        "\n",
        "5-A permutação com o menor custo total encontrado representa a solução ótima para o problema.\n",
        "\n"
      ],
      "metadata": {
        "id": "KmjYP7C9iM_H"
      }
    },
    {
      "cell_type": "markdown",
      "source": [],
      "metadata": {
        "id": "fWMYoQgOrnNz"
      }
    },
    {
      "cell_type": "markdown",
      "source": [
        "## Questao 4"
      ],
      "metadata": {
        "id": "UO0CQTj-3Ste"
      }
    },
    {
      "cell_type": "markdown",
      "source": [
        "Vimos que no Exploration é uma decisão ótima feita de prooósito visando adicionar variabilidade nas soluções geradas no Exploitation foca explorar alguma propriedade do problema podendo ser uma intuição que leve a bons resultados em curtos prazos.\n",
        "\n",
        "No algortimo da mochila em algoritmos geneticos repetir por N gerações significa que é um exemplo de Exploration pois adicionamos variabilidade nas solucoes.\n",
        "\n",
        "Enquanto estudar a populacao inicial foca em explorar alguma propriedade do problema sendo um exemplo de Expolitation\n",
        "\n",
        "\n",
        "Se focarmos apenas em exploitation, estaremos escolhendo uma propriedade em que vamos guiar a nossa solução e consequentemente limitando nosso conjunto de soluções que não vai ser todas as possíveis, mas sim apenas aquelas que a heurística a ser utilizada vai abranger, de modo que sempre serão produzidos os mesmos resultados - e pode acabar demorando para convergir para o valor ótimo. Por outro lado, se apenas focarmos em exploration, obteremos resultados aleatórios - o que pode ser qualquer uma das soluções possíveis e que consequentemente inclui resultados que não são soluções para o problema, mas que também pode gerar resultados que cheguem em um valor ótimo com menos passos.\n",
        "\n",
        "Assim, o balanceamento de exploration e exploitation é essencial. Pois dessa forma, posso explorar uma propriedade que creio ser importante para o meu problema, mas ao mesmo tempo trago uma certa aleatoriedade para não ficar preso em ótimos locais e variar a solução do meu problema. E foi isso que fizemos em aula quando, por exemplo, escolhemos que em 75% dos casos utilizaríamos a heurística do mais caro e que em 25% dos casos escolheríamos um item aleatório para entrar na mochila.\n",
        "\n",
        "Sabendo dessa importância de balancear as estratégias, agora serão descrittos alguns exemplos de como podemos atingir exploration e exploitation para o problema da mochila binária com estratégia de algoritmos genéticos. Para a estratégia genética, primeiro teríamos que seguir alguns passos para assemelhar o algoritmo com as etapas de seleção natural, cruzamento e mutação. E alguns desses passos são:\n",
        "\n",
        "Começar com uma população inicial de soluções aleatórias, como se fosse um cromossomo (a mochila seria então representada por bits). E já nesse primeiro passo poderíamos já optar por utilizar exploration (inicializando a mochila com itens aleatórios, por exemplo) ou exploitation (inicializando a mochila com alguns itens mais caros).\n",
        "\n",
        "Feito isso cada mochila seria avaliada de acordo com seu valor e peso, para medir o quão boa é a solução, e já eliminar aquelas que não atendem os requisitos (fitness e selection). Aqui, poderíamos aplicar exploitation, buscando selecionar apenas mochilas mais caras (que poderiam ser possíveis soluções boas) ou mais leves (que permitem ser melhoradas nas próximas etapas) - dependendo do interesse.\n",
        "\n",
        "Com as mochilas selecionadas, elas passariam pelo cruzamento (crossover) para gerar mais mochilas. E esse cruzamento incluiria selecionar a parte de uma mochila com outra parte de outra mochila para gerar uma nova mochila. Para isso, poderíamos utilizar mais exploitation, juntando sempre a primeira parte de uma mochila com a última parte da mochila em sequência, por exemplo.\n",
        "\n",
        "Por fim, a última etapa (de um ciclo que se repete inúmeras vezes), seria introduzir mutação para aumentar a diversidade das soluções geradas até então, o que busca evitar a convergência para soluções ótimas locais. Nesse caso, poderíamos utilizar exploration para inserir ou retirar itens aleatórios das mochilas já existentes."
      ],
      "metadata": {
        "id": "GRrPUymQ5MIH"
      }
    },
    {
      "cell_type": "markdown",
      "source": [
        "## Questão 5\n",
        "Os trechos de código sujeitos a optimização serão aqueles relativos a geração de números aleatórios, isto é:\n",
        "```python\n",
        "   x = (rand()%2) -1;\n",
        "   y = (rand()%2) -1;\n",
        "```\n",
        "Visto que juntos, consomem mais de 80% do tempo de execução total do código. Dessa forma, seria necessário procurar alguma forma mais optimizada e adequada de gerar números aletórios na faixa necessário (0 a 1). Dessa forma, procurando alguma biblioteca ou implementação mais performática nesse sentido, seria a maneira mais adequada de melhorar a performance do código.\n",
        "\n",
        " Ademais, realizaria a declaração de double x,y  fora do escopo do loop para evitar a declaração seguida desse laço."
      ],
      "metadata": {
        "id": "j6847YTN4ze2"
      }
    },
    {
      "cell_type": "code",
      "source": [
        "%%writefile montecarlo.cpp\n",
        "\n",
        "#include <time.h>\n",
        "#include <math.h>\n",
        "#include <iostream>\n",
        "\n",
        "#define ITERATIONS 100000\n",
        "\n",
        "int main(){\n",
        "\n",
        " int pi=0;\n",
        " srand((unsigned)time(NULL));\n",
        " double x,y;\n",
        " for (int i=0;i<ITERATIONS; i++){\n",
        "\n",
        "   x = (rand()%2) -1;\n",
        "   y = (rand()%2) -1;\n",
        "   if (x*x+y*y<=1)\n",
        "      pi++;\n",
        " }\n",
        "\n",
        " std::cout<<pi*4.0/ITERATIONS;\n",
        "\n",
        " return 0;\n",
        "\n",
        "}\n"
      ],
      "metadata": {
        "colab": {
          "base_uri": "https://localhost:8080/"
        },
        "id": "JIupTPDz41FW",
        "outputId": "4e62c059-f8b9-4d6b-85c7-15c9eccedae7"
      },
      "execution_count": 121,
      "outputs": [
        {
          "output_type": "stream",
          "name": "stdout",
          "text": [
            "Overwriting montecarlo.cpp\n"
          ]
        }
      ]
    },
    {
      "cell_type": "code",
      "source": [
        "!g++ -Wall -O3 -g montecarlo.cpp -o montecarlo"
      ],
      "metadata": {
        "id": "fN80aLDs5ZVO"
      },
      "execution_count": 115,
      "outputs": []
    },
    {
      "cell_type": "code",
      "source": [
        "!apt-get install valgrind >> t.txt"
      ],
      "metadata": {
        "id": "RImhmNVG7vEU"
      },
      "execution_count": 116,
      "outputs": []
    },
    {
      "cell_type": "code",
      "source": [
        "!valgrind --tool=callgrind ./montecarlo"
      ],
      "metadata": {
        "colab": {
          "base_uri": "https://localhost:8080/"
        },
        "id": "4kSWHfyR5-Br",
        "outputId": "04db542a-d18a-48d5-bec2-70c53a5e84b7"
      },
      "execution_count": 117,
      "outputs": [
        {
          "output_type": "stream",
          "name": "stdout",
          "text": [
            "==68821== Callgrind, a call-graph generating cache profiler\n",
            "==68821== Copyright (C) 2002-2017, and GNU GPL'd, by Josef Weidendorfer et al.\n",
            "==68821== Using Valgrind-3.18.1 and LibVEX; rerun with -h for copyright info\n",
            "==68821== Command: ./montecarlo\n",
            "==68821== \n",
            "==68821== For interactive control, run 'callgrind_control -h'.\n",
            "3.00216==68821== \n",
            "==68821== Events    : Ir\n",
            "==68821== Collected : 17100929\n",
            "==68821== \n",
            "==68821== I   refs:      17,100,929\n"
          ]
        }
      ]
    },
    {
      "cell_type": "code",
      "source": [
        "!ls"
      ],
      "metadata": {
        "colab": {
          "base_uri": "https://localhost:8080/"
        },
        "id": "7IsUUxW58Kgq",
        "outputId": "8210ccfe-7a72-4cd1-cdc5-40e3f4052a54"
      },
      "execution_count": 118,
      "outputs": [
        {
          "output_type": "stream",
          "name": "stdout",
          "text": [
            "callgrind.out.52708\t\t\t questao1_input1.txt\n",
            "callgrind.out.68821\t\t\t questao1_input2.txt\n",
            "drive-download-20231008T164919Z-001.zip  questao1_input3.txt\n",
            "montecarlo\t\t\t\t questao1_input4.txt\n",
            "montecarlo.cpp\t\t\t\t sample_data\n",
            "q1\t\t\t\t\t t.txt\n",
            "q1.cpp\n"
          ]
        }
      ]
    },
    {
      "cell_type": "code",
      "source": [
        "!callgrind_annotate callgrind.out.68821 montecarlo.cpp"
      ],
      "metadata": {
        "colab": {
          "base_uri": "https://localhost:8080/"
        },
        "id": "nd99U2pt7t3s",
        "outputId": "f32f4d15-6e93-4843-b0c9-43fe5c1fd46d"
      },
      "execution_count": 120,
      "outputs": [
        {
          "output_type": "stream",
          "name": "stdout",
          "text": [
            "--------------------------------------------------------------------------------\n",
            "Profile data file 'callgrind.out.68821' (creator: callgrind-3.18.1)\n",
            "--------------------------------------------------------------------------------\n",
            "I1 cache: \n",
            "D1 cache: \n",
            "LL cache: \n",
            "Timerange: Basic block 0 - 3655322\n",
            "Trigger: Program termination\n",
            "Profiled target:  ./montecarlo (PID 68821, part 1)\n",
            "Events recorded:  Ir\n",
            "Events shown:     Ir\n",
            "Event sort order: Ir\n",
            "Thresholds:       99\n",
            "Include dirs:     \n",
            "User annotated:   montecarlo.cpp\n",
            "Auto-annotation:  on\n",
            "\n",
            "--------------------------------------------------------------------------------\n",
            "Ir                  \n",
            "--------------------------------------------------------------------------------\n",
            "17,100,929 (100.0%)  PROGRAM TOTALS\n",
            "\n",
            "--------------------------------------------------------------------------------\n",
            "Ir                  file:function\n",
            "--------------------------------------------------------------------------------\n",
            "6,374,196 (37.27%)  ./stdlib/./stdlib/random_r.c:random_r [/usr/lib/x86_64-linux-gnu/libc.so.6]\n",
            "4,200,000 (24.56%)  ./stdlib/./stdlib/random.c:random [/usr/lib/x86_64-linux-gnu/libc.so.6]\n",
            "2,800,020 (16.37%)  montecarlo.cpp:main [/content/montecarlo]\n",
            "1,000,000 ( 5.85%)  ./stdlib/./stdlib/rand.c:rand [/usr/lib/x86_64-linux-gnu/libc.so.6]\n",
            "  975,122 ( 5.70%)  ./elf/./elf/dl-lookup.c:_dl_lookup_symbol_x [/usr/lib/x86_64-linux-gnu/ld-linux-x86-64.so.2]\n",
            "  557,348 ( 3.26%)  ./elf/./elf/dl-lookup.c:do_lookup_x [/usr/lib/x86_64-linux-gnu/ld-linux-x86-64.so.2]\n",
            "  400,000 ( 2.34%)  ???:0x00000000001090a0 [???]\n",
            "  258,941 ( 1.51%)  ./elf/../sysdeps/x86_64/dl-machine.h:_dl_relocate_object\n",
            "  117,392 ( 0.69%)  ./elf/./elf/dl-lookup.c:check_match [/usr/lib/x86_64-linux-gnu/ld-linux-x86-64.so.2]\n",
            "  108,088 ( 0.63%)  ./elf/./elf/do-rel.h:_dl_relocate_object\n",
            "   70,872 ( 0.41%)  ./string/../sysdeps/x86_64/strcmp.S:strcmp [/usr/lib/x86_64-linux-gnu/ld-linux-x86-64.so.2]\n",
            "   49,219 ( 0.29%)  ./elf/./elf/dl-tunables.c:__GI___tunables_init [/usr/lib/x86_64-linux-gnu/ld-linux-x86-64.so.2]\n",
            "   19,563 ( 0.11%)  ./elf/../sysdeps/generic/dl-protected.h:do_lookup_x\n",
            "\n",
            "--------------------------------------------------------------------------------\n",
            "-- User-annotated source: montecarlo.cpp\n",
            "--------------------------------------------------------------------------------\n",
            "Ir                 \n",
            "\n",
            "        .           \n",
            "        .           #include <time.h>\n",
            "        .           #include <math.h>\n",
            "        .           #include <iostream>\n",
            "        .           \n",
            "        .           #define ITERATIONS 100000\n",
            "        .           \n",
            "        4 ( 0.00%)  int main(){\n",
            "        .           \n",
            "        1 ( 0.00%)   int pi=0;\n",
            "        5 ( 0.00%)   srand((unsigned)time(NULL)); \n",
            "    6,848 ( 0.04%)  => ???:0x00000000001090d0 (1x)\n",
            "        8 ( 0.00%)  => ???:0x00000000001090c0 (1x)\n",
            "        .            double x,y;\n",
            "  200,001 ( 1.17%)   for (int i=0;i<ITERATIONS; i++){\n",
            "        .              \n",
            "1,000,000 ( 5.85%)     x = (rand()%2) -1;\n",
            "5,987,100 (35.01%)  => ???:0x00000000001090a0 (100,000x)\n",
            "  900,000 ( 5.26%)     y = (rand()%2) -1;\n",
            "5,987,096 (35.01%)  => ???:0x00000000001090a0 (100,000x)\n",
            "  400,000 ( 2.34%)     if (x*x+y*y<=1)\n",
            "  300,000 ( 1.75%)        pi++;\n",
            "        .            }\n",
            "        .           \n",
            "        4 ( 0.00%)   std::cout<<pi*4.0/ITERATIONS;\n",
            "        .           \n",
            "        .            return 0;\n",
            "        .           \n",
            "        8 ( 0.00%)  }\n",
            "\n",
            "--------------------------------------------------------------------------------\n",
            "The following files chosen for auto-annotation could not be found:\n",
            "--------------------------------------------------------------------------------\n",
            "  ./elf/../sysdeps/generic/dl-protected.h\n",
            "  ./elf/../sysdeps/x86_64/dl-machine.h\n",
            "  ./elf/./elf/dl-lookup.c\n",
            "  ./elf/./elf/dl-tunables.c\n",
            "  ./elf/./elf/do-rel.h\n",
            "  ./stdlib/./stdlib/rand.c\n",
            "  ./stdlib/./stdlib/random.c\n",
            "  ./stdlib/./stdlib/random_r.c\n",
            "  ./string/../sysdeps/x86_64/strcmp.S\n",
            "\n",
            "--------------------------------------------------------------------------------\n",
            "Ir                 \n",
            "--------------------------------------------------------------------------------\n",
            "2,800,023 (16.37%)  events annotated\n",
            "\n"
          ]
        }
      ]
    },
    {
      "cell_type": "markdown",
      "source": [
        "## Questão 6\n",
        "Programação dinâmica de Maximal clique problem graph"
      ],
      "metadata": {
        "id": "_8vwz9d_T2C_"
      }
    },
    {
      "cell_type": "code",
      "source": [],
      "metadata": {
        "id": "r4fEnhjN8PEa"
      },
      "execution_count": null,
      "outputs": []
    }
  ]
}