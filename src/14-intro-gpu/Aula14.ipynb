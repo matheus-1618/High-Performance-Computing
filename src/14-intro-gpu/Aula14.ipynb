{
  "nbformat": 4,
  "nbformat_minor": 0,
  "metadata": {
    "colab": {
      "provenance": [],
      "gpuType": "T4"
    },
    "kernelspec": {
      "name": "python3",
      "display_name": "Python 3"
    },
    "language_info": {
      "name": "python"
    },
    "accelerator": "GPU"
  },
  "cells": [
    {
      "cell_type": "code",
      "execution_count": 1,
      "metadata": {
        "colab": {
          "base_uri": "https://localhost:8080/"
        },
        "id": "UuplfnMkzEV8",
        "outputId": "fad97bba-1c10-41db-a7a3-dd25eeed0400"
      },
      "outputs": [
        {
          "output_type": "stream",
          "name": "stdout",
          "text": [
            "Fri Oct 20 11:18:02 2023       \n",
            "+-----------------------------------------------------------------------------+\n",
            "| NVIDIA-SMI 525.105.17   Driver Version: 525.105.17   CUDA Version: 12.0     |\n",
            "|-------------------------------+----------------------+----------------------+\n",
            "| GPU  Name        Persistence-M| Bus-Id        Disp.A | Volatile Uncorr. ECC |\n",
            "| Fan  Temp  Perf  Pwr:Usage/Cap|         Memory-Usage | GPU-Util  Compute M. |\n",
            "|                               |                      |               MIG M. |\n",
            "|===============================+======================+======================|\n",
            "|   0  Tesla T4            Off  | 00000000:00:04.0 Off |                    0 |\n",
            "| N/A   39C    P8     9W /  70W |      0MiB / 15360MiB |      0%      Default |\n",
            "|                               |                      |                  N/A |\n",
            "+-------------------------------+----------------------+----------------------+\n",
            "                                                                               \n",
            "+-----------------------------------------------------------------------------+\n",
            "| Processes:                                                                  |\n",
            "|  GPU   GI   CI        PID   Type   Process name                  GPU Memory |\n",
            "|        ID   ID                                                   Usage      |\n",
            "|=============================================================================|\n",
            "|  No running processes found                                                 |\n",
            "+-----------------------------------------------------------------------------+\n"
          ]
        }
      ],
      "source": [
        "!nvidia-smi"
      ]
    },
    {
      "cell_type": "code",
      "source": [
        "%%writefile roteiro1.cu\n",
        "#include <thrust/host_vector.h>\n",
        "#include <thrust/device_vector.h>\n",
        "#include <thrust/generate.h>\n",
        "#include <thrust/sort.h>\n",
        "#include <thrust/copy.h>\n",
        "#include <thrust/random.h>\n",
        "#include <vector>\n",
        "#define N 100\n",
        "using namespace std;\n",
        "\n",
        "int main() {\n",
        "  thrust::device_vector<float> x(N);\n",
        "  thrust::sequence (x.begin(), x.end());\n",
        "\n",
        "  float media = thrust::reduce(x.begin(), x.end()) / x.size();\n",
        "\n",
        "  thrust::device_vector<float> mu(N);\n",
        "  thrust::fill(mu.begin(), mu.end(), media);\n",
        "  thrust::transform(x.begin(), x.end(), mu.begin(), x.begin(), thrust::minus<float>());\n",
        "  thrust::transform(x.begin(), x.end(), x.begin(), thrust::square<float>());\n",
        "  float variance = thrust::reduce(x.begin(), x.end()) / N;\n",
        "  cout << \"variancia: \" << variance << std::endl;\n",
        "  return 0;\n",
        "}"
      ],
      "metadata": {
        "colab": {
          "base_uri": "https://localhost:8080/"
        },
        "id": "XcyquHntznh0",
        "outputId": "ba341dd6-5765-4fef-ea5d-cef62da5651a"
      },
      "execution_count": 34,
      "outputs": [
        {
          "output_type": "stream",
          "name": "stdout",
          "text": [
            "Overwriting roteiro1.cu\n"
          ]
        }
      ]
    },
    {
      "cell_type": "code",
      "source": [
        "!nvcc -arch=sm_70  -std=c++14 roteiro1.cu -o roteiro1"
      ],
      "metadata": {
        "id": "TWh5UbSN28Tc"
      },
      "execution_count": 35,
      "outputs": []
    },
    {
      "cell_type": "code",
      "source": [
        "%%timeit\n",
        "!./roteiro1\n"
      ],
      "metadata": {
        "colab": {
          "base_uri": "https://localhost:8080/"
        },
        "id": "kV-e_nmz4SbJ",
        "outputId": "9453c68f-bebd-452c-dfa4-176065ed642f"
      },
      "execution_count": 36,
      "outputs": [
        {
          "output_type": "stream",
          "name": "stdout",
          "text": [
            "variancia: 833.25\n",
            "variancia: 833.25\n",
            "variancia: 833.25\n",
            "variancia: 833.25\n",
            "variancia: 833.25\n",
            "variancia: 833.25\n",
            "variancia: 833.25\n",
            "variancia: 833.25\n",
            "315 ms ± 13.2 ms per loop (mean ± std. dev. of 7 runs, 1 loop each)\n"
          ]
        }
      ]
    },
    {
      "cell_type": "code",
      "source": [
        "%%writefile roteiro1Melhor.cu\n",
        "#include <thrust/host_vector.h>\n",
        "#include <thrust/device_vector.h>\n",
        "#include <thrust/generate.h>\n",
        "#include <thrust/sort.h>\n",
        "#include <thrust/copy.h>\n",
        "#include <thrust/random.h>\n",
        "#include <vector>\n",
        "#define N 100\n",
        "using namespace std;\n",
        "\n",
        "int main() {\n",
        "  thrust::device_vector<float> x(N);\n",
        "  thrust::sequence (x.begin(), x.end());\n",
        "\n",
        "  float media = thrust::reduce(x.begin(), x.end()) / x.size();\n",
        "\n",
        "  //thrust::device_vector<float> mu(N);\n",
        "  //thrust::fill(mu.begin(), mu.end(), media);\n",
        "  thrust::constant_iterator<float> mu(media);\n",
        "  thrust::constant_iterator<float> end= mu + N;\n",
        "  thrust::transform(x.begin(), x.end(), mu, x.begin(), thrust::minus<float>());\n",
        "  thrust::transform(x.begin(), x.end(), x.begin(), thrust::square<float>());\n",
        "  float variance = thrust::reduce(x.begin(), x.end()) / N;\n",
        "  cout << \"variancia: \" << variance << std::endl;\n",
        "  return 0;\n",
        "}"
      ],
      "metadata": {
        "colab": {
          "base_uri": "https://localhost:8080/"
        },
        "id": "HRolKR8a4WRT",
        "outputId": "b4840e21-0643-43cc-9bcf-a7f12eabae0d"
      },
      "execution_count": 37,
      "outputs": [
        {
          "output_type": "stream",
          "name": "stdout",
          "text": [
            "Overwriting roteiro1Melhor.cu\n"
          ]
        }
      ]
    },
    {
      "cell_type": "code",
      "source": [
        "!nvcc -arch=sm_70  -std=c++14 roteiro1Melhor.cu -o roteiro1Melhor"
      ],
      "metadata": {
        "id": "Xwko3arl8KNm"
      },
      "execution_count": 38,
      "outputs": []
    },
    {
      "cell_type": "code",
      "source": [
        "%%timeit\n",
        "!./roteiro1Melhor"
      ],
      "metadata": {
        "colab": {
          "base_uri": "https://localhost:8080/"
        },
        "id": "yrfWQGVb8NWu",
        "outputId": "8dfaaaf3-38cc-4f50-97d4-c96ee4c503c2"
      },
      "execution_count": 39,
      "outputs": [
        {
          "output_type": "stream",
          "name": "stdout",
          "text": [
            "variancia: 8.25\n",
            "variancia: 8.25\n",
            "variancia: 8.25\n",
            "variancia: 8.25\n",
            "variancia: 8.25\n",
            "variancia: 8.25\n",
            "variancia: 8.25\n",
            "variancia: 8.25\n",
            "291 ms ± 33.9 ms per loop (mean ± std. dev. of 7 runs, 1 loop each)\n"
          ]
        }
      ]
    },
    {
      "cell_type": "code",
      "source": [],
      "metadata": {
        "id": "1O7g0kVE9EDg"
      },
      "execution_count": null,
      "outputs": []
    }
  ]
}