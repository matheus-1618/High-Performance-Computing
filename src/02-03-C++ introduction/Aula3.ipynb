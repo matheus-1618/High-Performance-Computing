{
  "nbformat": 4,
  "nbformat_minor": 0,
  "metadata": {
    "colab": {
      "provenance": [],
      "authorship_tag": "ABX9TyMxr3SRCFlXa5/K2ZhNbEGb"
    },
    "kernelspec": {
      "name": "python3",
      "display_name": "Python 3"
    },
    "language_info": {
      "name": "python"
    }
  },
  "cells": [
    {
      "cell_type": "code",
      "execution_count": 1,
      "metadata": {
        "colab": {
          "base_uri": "https://localhost:8080/"
        },
        "id": "TbAzVpXRTVqJ",
        "outputId": "fac74cbc-6385-4bed-9758-25d24b2a5420"
      },
      "outputs": [
        {
          "output_type": "stream",
          "name": "stdout",
          "text": [
            "Cloning into 'supercomp'...\n",
            "remote: Enumerating objects: 195, done.\u001b[K\n",
            "remote: Counting objects: 100% (195/195), done.\u001b[K\n",
            "remote: Compressing objects: 100% (155/155), done.\u001b[K\n",
            "remote: Total 195 (delta 4), reused 143 (delta 3), pack-reused 0\u001b[K\n",
            "Receiving objects: 100% (195/195), 26.19 MiB | 23.38 MiB/s, done.\n",
            "Resolving deltas: 100% (4/4), done.\n",
            "Already on 'master'\n",
            "Your branch is up to date with 'origin/master'.\n"
          ]
        }
      ],
      "source": [
        "!rm -rf supercomp\n",
        "!rm -rf 02-03-implementacao-c++\n",
        "!git clone --depth 1 --branch master --no-checkout https://github.com/matheus-1618/supercomp.git\n",
        "!cd supercomp&&git sparse-checkout set material/aulas/02-03-implementacao-c++/\n",
        "!cd supercomp&&git checkout master\n",
        "!mv supercomp/material/aulas/02-03-implementacao-c++//* .\n",
        "!rm -rf supercomp"
      ]
    },
    {
      "cell_type": "code",
      "source": [
        "%%writefile arquivos.cpp\n",
        "#include <iostream>\n",
        "#include <fstream>\n",
        "using namespace std;\n",
        "\n",
        "int main(){\n",
        "  string nomeArquivo = \"exemplo.txt\";\n",
        "  ofstream arquivo(nomeArquivo);\n",
        "  if (!arquivo.is_open()){\n",
        "    cerr << \"Erro ao abrir o arquivo\" << endl;\n",
        "    return 1;\n",
        "  }\n",
        "  arquivo << \"Ola teste de escrita\" << endl;\n",
        "  arquivo << \"Mais uma linha\" <<endl;\n",
        "  arquivo.close();\n",
        "  return 0;\n",
        "}"
      ],
      "metadata": {
        "colab": {
          "base_uri": "https://localhost:8080/"
        },
        "id": "Vh2V6O7qTYaz",
        "outputId": "56c51add-2393-4d31-bbdc-3664b5792233"
      },
      "execution_count": 24,
      "outputs": [
        {
          "output_type": "stream",
          "name": "stdout",
          "text": [
            "Overwriting arquivos.cpp\n"
          ]
        }
      ]
    },
    {
      "cell_type": "code",
      "source": [
        "!g++ -Wall -O3 arquivos.cpp -o arquivos\n",
        "!./arquivos"
      ],
      "metadata": {
        "id": "bWHj3hfxTfTB"
      },
      "execution_count": 25,
      "outputs": []
    },
    {
      "cell_type": "code",
      "source": [
        "!cat exemplo.txt"
      ],
      "metadata": {
        "colab": {
          "base_uri": "https://localhost:8080/"
        },
        "id": "0eGQ1dFiTqY8",
        "outputId": "ba5230b5-7d6a-49e1-83ee-53b87f606351"
      },
      "execution_count": 26,
      "outputs": [
        {
          "output_type": "stream",
          "name": "stdout",
          "text": [
            "Ola teste de escrita\n",
            "Mais uma linha\n"
          ]
        }
      ]
    },
    {
      "cell_type": "code",
      "source": [
        "%%writefile soma_n.cpp\n",
        "#include <iostream>\n",
        "#include <iomanip>\n",
        "#include <math.h>\n",
        "using namespace std;\n",
        "\n",
        "int main(){\n",
        "  int n = 0;\n",
        "  cin >> n;\n",
        "  float S = 0.0;\n",
        "  for (int i = 0; i < n; i++){\n",
        "    S = S + (1/pow(2,i));\n",
        "  }\n",
        "  cout << \"O valor de S é \" <<fixed<< setprecision(15) << S << endl;\n",
        "  return 0;\n",
        "}\n"
      ],
      "metadata": {
        "colab": {
          "base_uri": "https://localhost:8080/"
        },
        "id": "jDdcS0zqT09S",
        "outputId": "41f60ba7-1c20-4e62-dd7f-ccd77d72f6a6"
      },
      "execution_count": 27,
      "outputs": [
        {
          "output_type": "stream",
          "name": "stdout",
          "text": [
            "Overwriting soma_n.cpp\n"
          ]
        }
      ]
    },
    {
      "cell_type": "code",
      "source": [
        "!g++ -Wall -O3 soma_n.cpp -o soma_n\n",
        "!./soma_n"
      ],
      "metadata": {
        "colab": {
          "base_uri": "https://localhost:8080/"
        },
        "id": "vbWcisbxVH5U",
        "outputId": "7949fa6b-1c19-4a49-9493-d77e041aea04"
      },
      "execution_count": 33,
      "outputs": [
        {
          "output_type": "stream",
          "name": "stdout",
          "text": [
            "5\n",
            "O valor de S é 1.937500000000000\n"
          ]
        }
      ]
    },
    {
      "cell_type": "code",
      "source": [
        "#pipes\n",
        "!echo 100 | ./soma_n\n",
        "!echo 10 | ./soma_n"
      ],
      "metadata": {
        "colab": {
          "base_uri": "https://localhost:8080/"
        },
        "id": "5jjNs0ehVQKA",
        "outputId": "9cd0388f-ea41-488f-db20-2985d5eb81ed"
      },
      "execution_count": 30,
      "outputs": [
        {
          "output_type": "stream",
          "name": "stdout",
          "text": [
            "O valor de S é 2.000000000000000\n",
            "O valor de S é 1.998046875000000\n"
          ]
        }
      ]
    },
    {
      "cell_type": "code",
      "source": [
        "!python t4.py"
      ],
      "metadata": {
        "colab": {
          "base_uri": "https://localhost:8080/"
        },
        "id": "Wt22hVrnWSS8",
        "outputId": "de8051cd-27ab-4c7d-cbb9-d3caa9b4c66c"
      },
      "execution_count": 31,
      "outputs": [
        {
          "output_type": "stream",
          "name": "stdout",
          "text": [
            "2\n",
            "2\n",
            "0.9536136420216835\n",
            "0.19146278287896545\n",
            "0.572538212 0.145218483\n"
          ]
        }
      ]
    },
    {
      "cell_type": "code",
      "source": [
        "%%writefile final.cpp\n",
        "#include <iostream>\n",
        "#include <fstream>\n",
        "using namespace std;\n",
        "\n",
        "int main(){\n",
        "  string nomeArquivo = \"exemplo.txt\";\n",
        "  ofstream arquivo(nomeArquivo);\n",
        "  if (!arquivo.is_open()){\n",
        "    cerr << \"Erro ao abrir o arquivo\" << endl;\n",
        "    return 1;\n",
        "  }\n",
        "  string input;\n",
        "  while (true){\n",
        "    getline(cin , input);\n",
        "    if (input == \"FIM\"){\n",
        "      break;\n",
        "    }\n",
        "    arquivo << input << endl;\n",
        "  }\n",
        "  arquivo.close();\n",
        "  return 0;\n",
        "}"
      ],
      "metadata": {
        "colab": {
          "base_uri": "https://localhost:8080/"
        },
        "id": "DnfbPs2JW0Kk",
        "outputId": "5c089202-3612-494c-f078-be58dffdf246"
      },
      "execution_count": 47,
      "outputs": [
        {
          "output_type": "stream",
          "name": "stdout",
          "text": [
            "Overwriting final.cpp\n"
          ]
        }
      ]
    },
    {
      "cell_type": "code",
      "source": [
        "!g++ -Wall -O3 final.cpp -o final\n",
        "!./final"
      ],
      "metadata": {
        "colab": {
          "base_uri": "https://localhost:8080/"
        },
        "id": "Bjm9IO5Qb-zE",
        "outputId": "027827ac-0ea1-4bea-f203-582cd73013e9"
      },
      "execution_count": 49,
      "outputs": [
        {
          "output_type": "stream",
          "name": "stdout",
          "text": [
            "sim\n",
            "nao\n",
            "ok\n",
            "mas nao quero\n",
            "FIM\n"
          ]
        }
      ]
    },
    {
      "cell_type": "code",
      "source": [
        "!cat exemplo.txt"
      ],
      "metadata": {
        "colab": {
          "base_uri": "https://localhost:8080/"
        },
        "id": "L0mKf7oYcEdM",
        "outputId": "ba25b996-15db-41ab-8a40-604ce7ed1e4e"
      },
      "execution_count": 50,
      "outputs": [
        {
          "output_type": "stream",
          "name": "stdout",
          "text": [
            "sim\n",
            "nao\n",
            "ok\n",
            "mas nao quero\n"
          ]
        }
      ]
    },
    {
      "cell_type": "code",
      "source": [],
      "metadata": {
        "id": "HWth7mE0eR6c"
      },
      "execution_count": null,
      "outputs": []
    }
  ]
}