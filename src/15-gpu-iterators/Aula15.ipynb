{
  "nbformat": 4,
  "nbformat_minor": 0,
  "metadata": {
    "colab": {
      "provenance": [],
      "gpuType": "T4",
      "authorship_tag": "ABX9TyPrJQQojMlw/tM3IWmXhvmX"
    },
    "kernelspec": {
      "name": "python3",
      "display_name": "Python 3"
    },
    "language_info": {
      "name": "python"
    },
    "accelerator": "GPU"
  },
  "cells": [
    {
      "cell_type": "code",
      "execution_count": 5,
      "metadata": {
        "colab": {
          "base_uri": "https://localhost:8080/"
        },
        "id": "mXNf1Fu48Ibg",
        "outputId": "dff70140-b4ac-46cb-f6e4-1df6156a6fed"
      },
      "outputs": [
        {
          "output_type": "stream",
          "name": "stdout",
          "text": [
            "Cloning into 'supercomp'...\n",
            "remote: Enumerating objects: 240, done.\u001b[K\n",
            "remote: Counting objects: 100% (240/240), done.\u001b[K\n",
            "remote: Compressing objects: 100% (184/184), done.\u001b[K\n",
            "remote: Total 240 (delta 22), reused 179 (delta 19), pack-reused 0\u001b[K\n",
            "Receiving objects: 100% (240/240), 26.83 MiB | 35.45 MiB/s, done.\n",
            "Resolving deltas: 100% (22/22), done.\n",
            "Already on 'master'\n",
            "Your branch is up to date with 'origin/master'.\n"
          ]
        }
      ],
      "source": [
        "!git clone --depth 1 --branch master --no-checkout https://github.com/matheus-1618/supercomp.git\n",
        "!cd supercomp&&git sparse-checkout set material/aulas/15-gpu-iteradores\n",
        "!cd supercomp&&git checkout master\n",
        "!mv supercomp/material/aulas/15-gpu-iteradores/* .\n",
        "!rm -rf supercomp"
      ]
    },
    {
      "cell_type": "code",
      "source": [
        "!./run.sh"
      ],
      "metadata": {
        "colab": {
          "base_uri": "https://localhost:8080/"
        },
        "id": "jabTspbD_ifP",
        "outputId": "451c399f-3022-4805-f8ea-b964a9798153"
      },
      "execution_count": 7,
      "outputs": [
        {
          "output_type": "stream",
          "name": "stdout",
          "text": [
            "1025202362 =  2*1804289383+1025202362\n",
            "1350490027 =  2*846930886+1350490027\n",
            "783368690 =  2*1681692777+783368690\n",
            "1102520059 =  2*1714636915+1102520059\n",
            "2044897763 =  2*1957747793+2044897763\n",
            "1967513926 =  2*424238335+1967513926\n",
            "1365180540 =  2*719885386+1365180540\n",
            "1540383426 =  2*1649760492+1540383426\n",
            "304089172 =  2*596516649+304089172\n",
            "1303455736 =  2*1189641421+1303455736\n"
          ]
        }
      ]
    },
    {
      "cell_type": "code",
      "source": [
        "%%writefile magnitude.cu\n",
        "#include <iostream>\n",
        " #include <iomanip>\n",
        " #include <cstdlib>\n",
        " #include <chrono>\n",
        " #include <cstdlib>\n",
        " #include <algorithm>\n",
        " #include <thrust/host_vector.h>\n",
        " #include <thrust/device_vector.h>\n",
        " #include <thrust/generate.h>\n",
        " #include <thrust/functional.h>\n",
        " #include <thrust/copy.h>\n",
        " #include <cmath>\n",
        " #include <random>\n",
        "\n",
        " using namespace std::chrono;\n",
        "\n",
        " void reportTime(const char* msg, steady_clock::duration span) {\n",
        "     auto ms = duration_cast<milliseconds>(span);\n",
        "     std::cout << msg << \" - levou - \" <<\n",
        "      ms.count() << \" milisegundos\" << std::endl;\n",
        " }\n",
        "\n",
        " // CRIE UMA FUNCTOR PARA CALCULAR A SQUARE\n",
        "struct square {\n",
        "    __host__ __device__\n",
        "    float operator()(const float &x) const {\n",
        "        return x * x;\n",
        "    }\n",
        "};\n",
        "\n",
        "\n",
        " // IMPLEMENTE O CALCULO DA MAGNITUDE COM THRUST\n",
        " float magnitude(thrust::device_vector<float> x) {\n",
        "     float result;\n",
        "     thrust::transform(x.begin() , x.end() , x.begin() , square());\n",
        "\n",
        "     float sum_square = thrust::reduce(x.begin(), x.end());\n",
        "     result = std::sqrt(sum_square);\n",
        "     return result;\n",
        " }\n",
        "\n",
        " int main(int argc, char** argv) {\n",
        "     if (argc != 2) {\n",
        "         std::cerr << argv[0] << \": numero invalido de argumentos\\n\";\n",
        "         std::cerr << \"uso: \" << argv[0] << \"  tamanho do vetor\\n\";\n",
        "         return 1;\n",
        "     }\n",
        "     int n = std::atoi(argv[1]); //numero de elementos\n",
        "     steady_clock::time_point ts, te;\n",
        "\n",
        "     // Faça um  vector em thrust\n",
        "     thrust::host_vector<float> vetor(n);\n",
        "\n",
        "\n",
        "     // inicilize o  vector\n",
        "     ts = steady_clock::now();\n",
        "\n",
        "     std::generate(vetor.begin(),vetor.end(), std::rand);\n",
        "\n",
        "\n",
        "     te = steady_clock::now();\n",
        "     reportTime(\"Inicializacao\", te - ts);\n",
        "\n",
        "     //Transferindo para gpu\n",
        "     thrust::device_vector<float> v_d = vetor;\n",
        "\n",
        "     // Calcule a magnitude do vetor\n",
        "     ts = steady_clock::now();\n",
        "     float len = magnitude(v_d);\n",
        "     te = steady_clock::now();\n",
        "     reportTime(\"Tempo para calculo\", te - ts);\n",
        "\n",
        "\n",
        "     std::cout << std::fixed << std::setprecision(4);\n",
        "     std::cout << \"Magnitude : \" << len << std::endl;\n",
        " }"
      ],
      "metadata": {
        "colab": {
          "base_uri": "https://localhost:8080/"
        },
        "id": "nIsJlt9a8YTh",
        "outputId": "62a3a647-cc0f-4b4c-ebf2-d12510e3dd5b"
      },
      "execution_count": 15,
      "outputs": [
        {
          "output_type": "stream",
          "name": "stdout",
          "text": [
            "Overwriting magnitude.cu\n"
          ]
        }
      ]
    },
    {
      "cell_type": "code",
      "source": [
        "!nvcc -arch=sm_70 magnitude.cu -o magnitude\n",
        "!./magnitude 5"
      ],
      "metadata": {
        "colab": {
          "base_uri": "https://localhost:8080/"
        },
        "id": "HH22Sxyv-vcF",
        "outputId": "6bc75428-458b-4814-beb4-22928f2417c8"
      },
      "execution_count": 21,
      "outputs": [
        {
          "output_type": "stream",
          "name": "stdout",
          "text": [
            "Inicializacao - levou - 0 milisegundos\n",
            "Tempo para calculo - levou - 0 milisegundos\n",
            "Magnitude : 3684236544.0000\n"
          ]
        }
      ]
    },
    {
      "cell_type": "code",
      "source": [
        "%%writefile magnitude_fusion.cu\n",
        "#include <iostream>\n",
        " #include <iomanip>\n",
        " #include <cstdlib>\n",
        " #include <chrono>\n",
        " #include <cstdlib>\n",
        " #include <algorithm>\n",
        " #include <thrust/host_vector.h>\n",
        " #include <thrust/device_vector.h>\n",
        " #include <thrust/generate.h>\n",
        " #include <thrust/functional.h>\n",
        " #include <thrust/copy.h>\n",
        " #include <cmath>\n",
        " #include <random>\n",
        "\n",
        " using namespace std::chrono;\n",
        "\n",
        " void reportTime(const char* msg, steady_clock::duration span) {\n",
        "     auto ms = duration_cast<milliseconds>(span);\n",
        "     std::cout << msg << \" - levou - \" <<\n",
        "      ms.count() << \" milisegundos\" << std::endl;\n",
        " }\n",
        "\n",
        " // CRIE UMA FUNCTOR PARA CALCULAR A SQUARE\n",
        "struct square {\n",
        "    __host__ __device__\n",
        "    float operator()(const float &x) const {\n",
        "        return x * x;\n",
        "    }\n",
        "};\n",
        "\n",
        "\n",
        " // IMPLEMENTE O CALCULO DA MAGNITUDE COM THRUST\n",
        " float magnitude(thrust::device_vector<float> x) {\n",
        "     float result;\n",
        "     thrust::transform(x.begin() , x.end() , x.begin() , square());  // se não colocar nada ou só o begin ele sobrescreve o resultado no próprio vetor\n",
        "      result = std::sqrt(thrust::transform_reduce(x.begin(), x.end(), square(), 0.0f, thrust::plus<float>()));\n",
        "     return result;\n",
        "\n",
        " }\n",
        "\n",
        " int main(int argc, char** argv) {\n",
        "     if (argc != 2) {\n",
        "         std::cerr << argv[0] << \": numero invalido de argumentos\\n\";\n",
        "         std::cerr << \"uso: \" << argv[0] << \"  tamanho do vetor\\n\";\n",
        "         return 1;\n",
        "     }\n",
        "     int n = std::atoi(argv[1]); //numero de elementos\n",
        "     steady_clock::time_point ts, te;\n",
        "\n",
        "     // Faça um  vector em thrust\n",
        "     thrust::host_vector<float> vetor(n);\n",
        "\n",
        "\n",
        "     // inicilize o  vector\n",
        "     ts = steady_clock::now();\n",
        "\n",
        "     std::generate(vetor.begin(),vetor.end(), std::rand);\n",
        "\n",
        "\n",
        "     te = steady_clock::now();\n",
        "     reportTime(\"Inicializacao\", te - ts);\n",
        "\n",
        "     //Transferindo para gpu\n",
        "     thrust::device_vector<float> v_d = vetor;\n",
        "\n",
        "     // Calcule a magnitude do vetor\n",
        "     ts = steady_clock::now();\n",
        "     float len = magnitude(v_d);\n",
        "     te = steady_clock::now();\n",
        "     reportTime(\"Tempo para calculo\", te - ts);\n",
        "\n",
        "\n",
        "     std::cout << std::fixed << std::setprecision(4);\n",
        "     std::cout << \"Magnitude : \" << len << std::endl;\n",
        " }"
      ],
      "metadata": {
        "colab": {
          "base_uri": "https://localhost:8080/"
        },
        "id": "KNndNBmI-6FL",
        "outputId": "b66dd95c-90f0-45b9-c6d8-08cab9af7aef"
      },
      "execution_count": 17,
      "outputs": [
        {
          "output_type": "stream",
          "name": "stdout",
          "text": [
            "Overwriting magnitude_fusion.cu\n"
          ]
        }
      ]
    },
    {
      "cell_type": "code",
      "source": [
        "!nvcc -arch=sm_70 magnitude_fusion.cu -o magnitude_fusion\n",
        "!./magnitude_fusion 5"
      ],
      "metadata": {
        "colab": {
          "base_uri": "https://localhost:8080/"
        },
        "id": "XebEn_XeAv3Y",
        "outputId": "f4156b31-0ce1-49c5-cc9e-e65bbad8f9fb"
      },
      "execution_count": 23,
      "outputs": [
        {
          "output_type": "stream",
          "name": "stdout",
          "text": [
            "Inicializacao - levou - 0 milisegundos\n",
            "Tempo para calculo - levou - 0 milisegundos\n",
            "Magnitude : 6514927451968110592.0000\n"
          ]
        }
      ]
    }
  ]
}