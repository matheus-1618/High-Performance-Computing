{
  "nbformat": 4,
  "nbformat_minor": 0,
  "metadata": {
    "colab": {
      "provenance": [],
      "include_colab_link": true
    },
    "kernelspec": {
      "name": "python3",
      "display_name": "Python 3"
    },
    "language_info": {
      "name": "python"
    }
  },
  "cells": [
    {
      "cell_type": "markdown",
      "metadata": {
        "id": "view-in-github",
        "colab_type": "text"
      },
      "source": [
        "<a href=\"https://colab.research.google.com/github/lucianosilva-github/supercomp/blob/master/MPI_AULA2.ipynb\" target=\"_parent\"><img src=\"https://colab.research.google.com/assets/colab-badge.svg\" alt=\"Open In Colab\"/></a>"
      ]
    },
    {
      "cell_type": "markdown",
      "source": [
        "#**MESSAGE PASSING INTERFACE (AULA 2)**"
      ],
      "metadata": {
        "id": "NhbNGSQJUt-V"
      }
    },
    {
      "cell_type": "markdown",
      "source": [
        "### **REDUÇÃO DISTRIBUÍDA DE PROCESSAMENTO**\n",
        "\n",
        "Inicialmente, vamos reinstalar o simgrid e fazer o download do modelos de clusters:"
      ],
      "metadata": {
        "id": "1J08kwEGf4mt"
      }
    },
    {
      "cell_type": "code",
      "source": [
        "!apt install simgrid"
      ],
      "metadata": {
        "id": "pJO1t4nrgEuz",
        "colab": {
          "base_uri": "https://localhost:8080/"
        },
        "outputId": "9013abca-6f6d-496f-ba25-26a570355316"
      },
      "execution_count": null,
      "outputs": [
        {
          "output_type": "stream",
          "name": "stdout",
          "text": [
            "Reading package lists... Done\n",
            "Building dependency tree       \n",
            "Reading state information... Done\n",
            "Note, selecting 'libsimgrid-dev' instead of 'simgrid'\n",
            "The following additional packages will be installed:\n",
            "  libsimgrid3.24 lua5.1 simgrid-java\n",
            "Suggested packages:\n",
            "  java-virtual-machine\n",
            "The following NEW packages will be installed:\n",
            "  libsimgrid-dev libsimgrid3.24 lua5.1 simgrid-java\n",
            "0 upgraded, 4 newly installed, 0 to remove and 24 not upgraded.\n",
            "Need to get 1,644 kB of archives.\n",
            "After this operation, 5,797 kB of additional disk space will be used.\n",
            "Get:1 http://archive.ubuntu.com/ubuntu focal/universe amd64 libsimgrid3.24 amd64 3.24+dfsg-3 [1,328 kB]\n",
            "Get:2 http://archive.ubuntu.com/ubuntu focal/universe amd64 lua5.1 amd64 5.1.5-8.1build4 [94.6 kB]\n",
            "Get:3 http://archive.ubuntu.com/ubuntu focal/universe amd64 simgrid-java amd64 3.24+dfsg-3 [76.5 kB]\n",
            "Get:4 http://archive.ubuntu.com/ubuntu focal/universe amd64 libsimgrid-dev amd64 3.24+dfsg-3 [145 kB]\n",
            "Fetched 1,644 kB in 3s (587 kB/s)\n",
            "Selecting previously unselected package libsimgrid3.24.\n",
            "(Reading database ... 122520 files and directories currently installed.)\n",
            "Preparing to unpack .../libsimgrid3.24_3.24+dfsg-3_amd64.deb ...\n",
            "Unpacking libsimgrid3.24 (3.24+dfsg-3) ...\n",
            "Selecting previously unselected package lua5.1.\n",
            "Preparing to unpack .../lua5.1_5.1.5-8.1build4_amd64.deb ...\n",
            "Unpacking lua5.1 (5.1.5-8.1build4) ...\n",
            "Selecting previously unselected package simgrid-java.\n",
            "Preparing to unpack .../simgrid-java_3.24+dfsg-3_amd64.deb ...\n",
            "Unpacking simgrid-java (3.24+dfsg-3) ...\n",
            "Selecting previously unselected package libsimgrid-dev.\n",
            "Preparing to unpack .../libsimgrid-dev_3.24+dfsg-3_amd64.deb ...\n",
            "Unpacking libsimgrid-dev (3.24+dfsg-3) ...\n",
            "Setting up libsimgrid3.24 (3.24+dfsg-3) ...\n",
            "Setting up lua5.1 (5.1.5-8.1build4) ...\n",
            "update-alternatives: using /usr/bin/lua5.1 to provide /usr/bin/lua (lua-interpreter) in auto mode\n",
            "update-alternatives: using /usr/bin/luac5.1 to provide /usr/bin/luac (lua-compiler) in auto mode\n",
            "Setting up simgrid-java (3.24+dfsg-3) ...\n",
            "Setting up libsimgrid-dev (3.24+dfsg-3) ...\n",
            "Processing triggers for man-db (2.9.1-1) ...\n",
            "Processing triggers for libc-bin (2.31-0ubuntu9.9) ...\n"
          ]
        }
      ]
    },
    {
      "cell_type": "code",
      "source": [
        "!git clone https://framagit.org/simgrid/simgrid-template-smpi.git"
      ],
      "metadata": {
        "id": "dGl09lLWgYmR",
        "colab": {
          "base_uri": "https://localhost:8080/"
        },
        "outputId": "e3e3f60f-bf4a-4bd3-ee54-8381e46075cc"
      },
      "execution_count": null,
      "outputs": [
        {
          "output_type": "stream",
          "name": "stdout",
          "text": [
            "Cloning into 'simgrid-template-smpi'...\n",
            "remote: Enumerating objects: 482, done.\u001b[K\n",
            "remote: Counting objects: 100% (482/482), done.\u001b[K\n",
            "remote: Compressing objects: 100% (338/338), done.\u001b[K\n",
            "remote: Total 482 (delta 181), reused 434 (delta 139), pack-reused 0\u001b[K\n",
            "Receiving objects: 100% (482/482), 967.28 KiB | 1.92 MiB/s, done.\n",
            "Resolving deltas: 100% (181/181), done.\n"
          ]
        }
      ]
    },
    {
      "cell_type": "markdown",
      "source": [
        "Na aula passada, implementamos um código para aproximação de PI usando MPI com 8 e 16 nodos de um cluster, utilizando as primitivas de comunicação MPI_Send e MPI_Recv."
      ],
      "metadata": {
        "id": "LeMTyeLPgi1t"
      }
    },
    {
      "cell_type": "code",
      "source": [
        "%%writefile pi_send_receive.c\n",
        "\n",
        "#include <stdio.h>\n",
        "#include <stdlib.h>\n",
        "#include \"mpi.h\"\n",
        "#include <math.h>\n",
        "#define SEED_MPI 35791246\n",
        " \n",
        "int main(int argc, char* argv[])\n",
        "{\n",
        "    long niter = 10000000;\n",
        "    int myid;                       //holds process's rank id\n",
        "    double x,y;                     //x,y value for the random coordinate\n",
        "    int i, count=0;                 //Count holds all the number of how many good coordinates\n",
        "    double z;                       //Used to check if x^2+y^2<=1\n",
        "    double pi;                      //holds approx value of pi\n",
        "    int nodenum;\n",
        " \n",
        "    MPI_Init(&argc, &argv);                 //Start MPI\n",
        "    MPI_Comm_rank(MPI_COMM_WORLD, &myid);           //get rank of node's process\n",
        "    MPI_Comm_size(MPI_COMM_WORLD, &nodenum);\n",
        "    int recieved[nodenum];\n",
        "    long recvniter[nodenum];\n",
        "    srand(SEED_MPI+myid);                       //Give rand() a seed value. Needs to be different on each node\n",
        " \n",
        "    if(myid != 0)\n",
        "    {\n",
        "        for (i=0; i<niter; ++i)                  //main loop\n",
        "        {\n",
        "            x= ((double)rand())/RAND_MAX;           //gets a random x coordinate\n",
        "            y =((double)rand())/RAND_MAX;           //gets a random y coordinate\n",
        "            z = sqrt(x*x+y*y);                  //Checks to see if number in inside unit circle\n",
        "            if (z<=1)\n",
        "            {\n",
        "                count++;                //if it is, consider it a valid random point\n",
        "            }\n",
        "        }\n",
        "        for(i=0; i<nodenum; ++i) // we will simulate this program on a crossbar cluster.\n",
        "                                 // See explanations in the text.\n",
        "        {\n",
        "           MPI_Send(&count,1,MPI_INT,0,1,MPI_COMM_WORLD);\n",
        "           MPI_Send(&niter,1,MPI_LONG,0,2,MPI_COMM_WORLD);\n",
        "        }\n",
        "    }\n",
        "    else if (myid == 0) //if the master process\n",
        "    {\n",
        "        for(i=0; i<nodenum; ++i)\n",
        "        {\n",
        "            MPI_Recv(&recieved[i],nodenum,MPI_INT,MPI_ANY_SOURCE,1,MPI_COMM_WORLD,MPI_STATUS_IGNORE);\n",
        "            MPI_Recv(&recvniter[i],nodenum,MPI_LONG,MPI_ANY_SOURCE,2,MPI_COMM_WORLD,MPI_STATUS_IGNORE);\n",
        "        }\n",
        "\n",
        "        int finalcount = 0;\n",
        "        long finalniter = 0;\n",
        "        for(i = 0; i<nodenum; ++i)\n",
        "        {\n",
        "            finalcount += recieved[i];\n",
        "            finalniter += recvniter[i];\n",
        "        }\n",
        " \n",
        "        pi = ((double)finalcount/(double)finalniter)*4.0;               //p = 4(m/n)\n",
        "        printf(\"Pi: %f\\n\", pi);             //Print the calculated value of pi\n",
        "\n",
        "    }\n",
        " \n",
        "    MPI_Finalize();                     //Close the MPI instance\n",
        "    return 0;\n",
        "}"
      ],
      "metadata": {
        "id": "OIgbaiolR1Lm",
        "colab": {
          "base_uri": "https://localhost:8080/"
        },
        "outputId": "9e597f85-a9e9-44e9-9c29-deae3cdd21cf"
      },
      "execution_count": null,
      "outputs": [
        {
          "output_type": "stream",
          "name": "stdout",
          "text": [
            "Overwriting pi_send_receive.c\n"
          ]
        }
      ]
    },
    {
      "cell_type": "markdown",
      "source": [
        "Observe que, nesta solução, cada escravo está enviando um número de mensagens igual ao número de nós do cluster. Isto é necessário porque vamos simular a execução numa topologia de cluster do tipo crossbar:\n",
        "\n",
        "https://simgrid.github.io/SMPI_CourseWare/topic_getting_started/platforms/\n",
        "\n",
        "Nesta arquitetura, cada nó potencialmente pode ser um mestre e só vamos saber qual nó é o mestre no momento da execução. Se usássemos uma topologia do tipo estrela, com o mestre já conhecido, bastariam somente 2 mensagens de cada escravo.\n",
        "\n",
        "Observe, também, que o mestre indica que pode receber mensagens de qualquer processo remoto pelo uso do parâmetro MPI_ANY_SOURCE.\n",
        "\n",
        "Agora, vamos compilar e executar este programa no nosso cluster crossbar:"
      ],
      "metadata": {
        "id": "7VcghHGk-P3Y"
      }
    },
    {
      "cell_type": "code",
      "source": [
        "!smpicc pi_send_receive.c -o pi_send_receive -lm"
      ],
      "metadata": {
        "id": "LyG1FDomHlxa"
      },
      "execution_count": null,
      "outputs": []
    },
    {
      "cell_type": "code",
      "source": [
        "!smpirun -np 16 -platform simgrid-template-smpi/cluster_crossbar.xml -hostfile simgrid-template-smpi/cluster_hostfile ./pi_send_receive"
      ],
      "metadata": {
        "colab": {
          "base_uri": "https://localhost:8080/"
        },
        "id": "ME929r-xIWHG",
        "outputId": "244f85d4-24ed-47b7-a3df-1e8403a0d17a"
      },
      "execution_count": null,
      "outputs": [
        {
          "output_type": "stream",
          "name": "stdout",
          "text": [
            "[0.000000] [xbt_cfg/INFO] Configuration change: Set 'smpi/privatization' to '1'\n",
            "[0.000000] [xbt_cfg/INFO] Configuration change: Set 'surf/precision' to '1e-9'\n",
            "[0.000000] [xbt_cfg/INFO] Configuration change: Set 'network/model' to 'SMPI'\n",
            "[0.000000] [smpi_kernel/INFO] You did not set the power of the host running the simulation.  The timings will certainly not be accurate.  Use the option \"--cfg=smpi/host-speed:<flops>\" to set its value.  Check https://simgrid.org/doc/latest/Configuring_SimGrid.html#automatic-benchmarking-of-smpi-code for more information.\n",
            "Pi: 3.142268\n"
          ]
        }
      ]
    },
    {
      "cell_type": "markdown",
      "source": [
        "Observe que todas as comunicações acima são do tipo ponto-a-ponto: cada processo-escravo envia mensagens diretamente para o nodo de rank 0 (mestre), informando a contagem de pontos que caíram dentro do quarto de círculo e o número de interações realizado. O mestre, então, recebe as mensagens de todos os escravos e sumariza os resultados. **Neste caso, dizemos que o mestre reduziu os dados coletados dos escravos**. "
      ],
      "metadata": {
        "id": "1V2jkSLmJEP1"
      }
    },
    {
      "cell_type": "markdown",
      "source": [
        "### **MPI_REDUCE e MPI_ALLREDUCE**\n",
        "\n",
        "**MPI_Reduce** é uma primitiva de comunicação MPI que coleta valores calculados por cada processo-escravo e os repassa para o processo-mestre para que possam ser reduzidos. A sintaxe de MPI_Reduce é mostrada abaixo:\n",
        "\n",
        "**MPI_Reduce(\n",
        "    void* send_data,\n",
        "    void* recv_data,\n",
        "    int count,\n",
        "    MPI_Datatype datatype,\n",
        "    MPI_Op op,\n",
        "    int root,\n",
        "    MPI_Comm communicator)**\n",
        "\n",
        "\n",
        "O parâmetro send_data é um array de elementos do tipo datatype que cada processo deseja reduzir. O recv_data só é relevante no processo com rank root. A matriz recv_data contém o resultado reduzido e tem um tamanho de sizeof(datatype) * count. O parâmetro op é a operação que você deseja aplicar aos seus dados. O MPI contém um conjunto de operações de redução comuns que podem ser usadas. Embora as operações de redução personalizadas possam ser definidas, isso está além do escopo desta aula. As operações de redução definidas pela MPI incluem:\n",
        "\n",
        "* **MPI_MAX** - Retorna o elemento máximo.\n",
        "* **MPI_MIN** - Retorna o elemento mínimo.\n",
        "* **MPI_SUM** - Soma os elementos.\n",
        "* **MPI_PROD** - Multiplica todos os elementos.\n",
        "* **MPI_LAND** - AND lógico entre os elementos.\n",
        "* **MPI_LOR** - OR lógico entre os elementos.\n",
        "* **MPI_BAND** - AND bit-a-bit dos elementos.\n",
        "* **MPI_BOR** - OR bit-a-bit dos elementos.\n",
        "* **MPI_MAXLOC** - Retorna o valor máximo e o rank do processo que o possui.\n",
        "* **MPI_MINLOC** - Retorna o valor mínimo e o rank do processo que o possui.\n",
        "\n",
        "Abaixo está uma ilustração do padrão de comunicação do MPI_Reduce para o operador de soma:\n",
        "\n",
        "![mpi_reduce_1.png](data:image/png;base64,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)\n",
        "\n",
        "Também é útil ver o que acontece quando os processos contêm vários elementos. A ilustração abaixo mostra a redução de vários números por processo:\n",
        "\n",
        "![mpi_reduce_2.png](data:image/png;base64,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)\n",
        "\n",
        "Cada um dos processos da ilustração acima tem dois elementos. A soma resultante ocorre por elemento. Em outras palavras, em vez de somar todos os elementos de todas as matrizes em um único elemento, o i-ésimo elemento de cada matriz é somado ao i-ésimo elemento na matriz de resultados do processo 0."
      ],
      "metadata": {
        "id": "RIXD4BT_fhr_"
      }
    },
    {
      "cell_type": "markdown",
      "source": [
        "O trecho de código abaixo mostra como aplicar MPI_REDUCE para calcular uma média de valores produzidos por processos-escravos:"
      ],
      "metadata": {
        "id": "94rKCb5wRoFH"
      }
    },
    {
      "cell_type": "code",
      "source": [
        "%%writefile avg.c\n",
        "\n",
        "#include <stdio.h>\n",
        "#include <stdlib.h>\n",
        "#include <mpi.h>\n",
        "#include <assert.h>\n",
        "#include <time.h>\n",
        "\n",
        "// Creates an array of random numbers. Each number has a value from 0 - 1\n",
        "float *create_rand_nums(int num_elements) {\n",
        "  float *rand_nums = (float *)malloc(sizeof(float) * num_elements);\n",
        "  assert(rand_nums != NULL);\n",
        "  int i;\n",
        "  for (i = 0; i < num_elements; i++) {\n",
        "    rand_nums[i] = (rand() / (float)RAND_MAX);\n",
        "  }\n",
        "  return rand_nums;\n",
        "}\n",
        "\n",
        "int main(int argc, char** argv) {\n",
        "  if (argc != 2) {\n",
        "    fprintf(stderr, \"Usage: avg num_elements_per_proc\\n\");\n",
        "    exit(1);\n",
        "  }\n",
        "\n",
        "  int num_elements_per_proc = atoi(argv[1]);\n",
        "\n",
        "  MPI_Init(NULL, NULL);\n",
        "\n",
        "  int world_rank;\n",
        "  MPI_Comm_rank(MPI_COMM_WORLD, &world_rank);\n",
        "  int world_size;\n",
        "  MPI_Comm_size(MPI_COMM_WORLD, &world_size);\n",
        "\n",
        "  // Create a random array of elements on all processes.\n",
        "  srand(time(NULL)*world_rank);   // Seed the random number generator to get different results each time for each processor\n",
        "  float *rand_nums = NULL;\n",
        "  rand_nums = create_rand_nums(num_elements_per_proc);\n",
        "\n",
        "  // Sum the numbers locally\n",
        "  float local_sum = 0;\n",
        "  int i;\n",
        "  for (i = 0; i < num_elements_per_proc; i++) {\n",
        "    local_sum += rand_nums[i];\n",
        "  }\n",
        "\n",
        "  // Print the random numbers on each process\n",
        "  printf(\"Local sum for process %d - %f, avg = %f\\n\",\n",
        "         world_rank, local_sum, local_sum / num_elements_per_proc);\n",
        "\n",
        "  // Reduce all of the local sums into the global sum\n",
        "  float global_sum;\n",
        "  MPI_Reduce(&local_sum, &global_sum, 1, MPI_FLOAT, MPI_SUM, 0,\n",
        "             MPI_COMM_WORLD);\n",
        "\n",
        "  // Print the result\n",
        "  if (world_rank == 0) {\n",
        "    printf(\"Total sum = %f, avg = %f\\n\", global_sum,\n",
        "           global_sum / (world_size * num_elements_per_proc));\n",
        "  }\n",
        "\n",
        "  // Clean up\n",
        "  free(rand_nums);\n",
        "\n",
        "  MPI_Barrier(MPI_COMM_WORLD);\n",
        "  MPI_Finalize();\n",
        "}"
      ],
      "metadata": {
        "id": "ITe48IUzR5xb",
        "colab": {
          "base_uri": "https://localhost:8080/"
        },
        "outputId": "12bd1123-642d-43d0-ce2d-6f2c98f59ffd"
      },
      "execution_count": null,
      "outputs": [
        {
          "output_type": "stream",
          "name": "stdout",
          "text": [
            "Writing avg.c\n"
          ]
        }
      ]
    },
    {
      "cell_type": "markdown",
      "source": [
        "**EXERCÍCIO 1**\n",
        "\n",
        "Compile e teste o programa acima. "
      ],
      "metadata": {
        "id": "BdnXdo3QU1rc"
      }
    },
    {
      "cell_type": "code",
      "source": [
        "!smpicc avg.c -o avg -lm"
      ],
      "metadata": {
        "id": "XVXO_28xXnsV"
      },
      "execution_count": null,
      "outputs": []
    },
    {
      "cell_type": "code",
      "source": [
        "!smpirun -np 16 -platform simgrid-template-smpi/cluster_crossbar.xml -hostfile simgrid-template-smpi/cluster_hostfile ./avg 100"
      ],
      "metadata": {
        "colab": {
          "base_uri": "https://localhost:8080/"
        },
        "id": "6GIx9Bs6zNK-",
        "outputId": "baadce32-4095-4de9-f844-2e4bf4527071"
      },
      "execution_count": null,
      "outputs": [
        {
          "output_type": "stream",
          "name": "stdout",
          "text": [
            "[0.000000] [xbt_cfg/INFO] Configuration change: Set 'smpi/privatization' to '1'\n",
            "[0.000000] [xbt_cfg/INFO] Configuration change: Set 'surf/precision' to '1e-9'\n",
            "[0.000000] [xbt_cfg/INFO] Configuration change: Set 'network/model' to 'SMPI'\n",
            "[0.000000] [smpi_kernel/INFO] You did not set the power of the host running the simulation.  The timings will certainly not be accurate.  Use the option \"--cfg=smpi/host-speed:<flops>\" to set its value.  Check https://simgrid.org/doc/latest/Configuring_SimGrid.html#automatic-benchmarking-of-smpi-code for more information.\n",
            "Local sum for process 0 - 54.682476, avg = 0.546825\n",
            "Local sum for process 1 - 53.733265, avg = 0.537333\n",
            "Local sum for process 2 - 50.004021, avg = 0.500040\n",
            "Local sum for process 3 - 48.533802, avg = 0.485338\n",
            "Local sum for process 4 - 53.392612, avg = 0.533926\n",
            "Local sum for process 5 - 52.567123, avg = 0.525671\n",
            "Local sum for process 6 - 46.119843, avg = 0.461198\n",
            "Local sum for process 7 - 46.484497, avg = 0.464845\n",
            "Local sum for process 8 - 51.973499, avg = 0.519735\n",
            "Local sum for process 9 - 50.640781, avg = 0.506408\n",
            "Local sum for process 10 - 46.569996, avg = 0.465700\n",
            "Local sum for process 11 - 57.496677, avg = 0.574967\n",
            "Local sum for process 12 - 52.161461, avg = 0.521615\n",
            "Local sum for process 13 - 48.333683, avg = 0.483337\n",
            "Local sum for process 14 - 46.418041, avg = 0.464180\n",
            "Local sum for process 15 - 54.174198, avg = 0.541742\n",
            "Total sum = 813.286011, avg = 0.508304\n"
          ]
        }
      ]
    },
    {
      "cell_type": "markdown",
      "source": [
        "Muitos aplicativos paralelos exigirão o acesso aos resultados reduzidos em todos os processos, em vez do processo-mestre. **MPI_Allreduce** é uma primitiva de comunicação MPI que reduzirá os valores e distribuirá os resultados para todos os processos. O protótipo da função é o seguinte:\n",
        "\n",
        "**MPI_Allreduce(\n",
        "    void* send_data,\n",
        "    void* recv_data,\n",
        "    int count,\n",
        "    MPI_Datatype datatype,\n",
        "    MPI_Op op,\n",
        "    MPI_Comm communicator)**\n",
        "\n",
        "Como você deve ter notado, MPI_Allreduce é idêntico a MPI_Reduce com a exceção de que não precisa de um ID de processo raiz (já que os resultados são distribuídos para todos os processos). A próxima imagem ilustra o padrão de comunicação de MPI_Allreduce:\n",
        "\n",
        "![mpi_allreduce_1.png](data:image/png;base64,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)"
      ],
      "metadata": {
        "id": "zR-JODcgSmtu"
      }
    },
    {
      "cell_type": "markdown",
      "source": [
        "Muitos problemas computacionais requerem reduções múltiplas para resolver problemas. Um desses problemas é encontrar o desvio padrão de um conjunto distribuído de números. Para aqueles que podem ter esquecido, o desvio padrão é uma medida da dispersão dos números de sua média. Um desvio padrão mais baixo significa que os números estão mais próximos e vice-versa para desvios padrão mais altos.\n",
        "\n",
        "Para encontrar o desvio padrão, deve-se primeiro calcular a média de todos os números. Depois que a média é calculada, as somas da diferença quadrada da média são calculadas. A raiz quadrada da média das somas é o resultado final. Dada a descrição do problema, sabemos que haverá pelo menos duas somas de todos os números, traduzindo-se em duas reduções.\n",
        "\n",
        "O código para fazer isto encontra-se abaixo:"
      ],
      "metadata": {
        "id": "s3Uvej39T6QM"
      }
    },
    {
      "cell_type": "code",
      "source": [
        "#include <stdio.h>\n",
        "#include <stdlib.h>\n",
        "#include <mpi.h>\n",
        "#include <math.h>\n",
        "#include <assert.h>\n",
        "\n",
        "// Creates an array of random numbers. Each number has a value from 0 - 1\n",
        "\n",
        "float *create_rand_nums(int num_elements) {\n",
        "  float *rand_nums = (float *)malloc(sizeof(float) * num_elements);\n",
        "  assert(rand_nums != NULL);\n",
        "  int i;\n",
        "  for (i = 0; i < num_elements; i++) {\n",
        "    rand_nums[i] = (rand() / (float)RAND_MAX);\n",
        "  }\n",
        "  return rand_nums;\n",
        "}\n",
        "\n",
        "int main(int argc, char** argv) {\n",
        "  if (argc != 2) {\n",
        "    fprintf(stderr, \"Usage: avg num_elements_per_proc\\n\");\n",
        "    exit(1);\n",
        "  }\n",
        "\n",
        "  int num_elements_per_proc = atoi(argv[1]);\n",
        "\n",
        "  MPI_Init(NULL, NULL);\n",
        "\n",
        "  int world_rank;\n",
        "  MPI_Comm_rank(MPI_COMM_WORLD, &world_rank);\n",
        "  int world_size;\n",
        "  MPI_Comm_size(MPI_COMM_WORLD, &world_size);\n",
        "\n",
        "  // Create a random array of elements on all processes.\n",
        "  srand(time(NULL)*world_rank); // Seed the random number generator of processes uniquely\n",
        "  float *rand_nums = NULL;\n",
        "  rand_nums = create_rand_nums(num_elements_per_proc);\n",
        "\n",
        "  // Sum the numbers locally\n",
        "  float local_sum = 0;\n",
        "  int i;\n",
        "  for (i = 0; i < num_elements_per_proc; i++) {\n",
        "    local_sum += rand_nums[i];\n",
        "  }\n",
        "\n",
        "  // Reduce all of the local sums into the global sum in order to\n",
        "  // calculate the mean\n",
        "  float global_sum;\n",
        "  MPI_Allreduce(&local_sum, &global_sum, 1, MPI_FLOAT, MPI_SUM,\n",
        "                MPI_COMM_WORLD);\n",
        "  float mean = global_sum / (num_elements_per_proc * world_size);\n",
        "\n",
        "  // Compute the local sum of the squared differences from the mean\n",
        "  float local_sq_diff = 0;\n",
        "  for (i = 0; i < num_elements_per_proc; i++) {\n",
        "    local_sq_diff += (rand_nums[i] - mean) * (rand_nums[i] - mean);\n",
        "  }\n",
        "\n",
        "  // Reduce the global sum of the squared differences to the root process\n",
        "  // and print off the answer\n",
        "  float global_sq_diff;\n",
        "  MPI_Reduce(&local_sq_diff, &global_sq_diff, 1, MPI_FLOAT, MPI_SUM, 0,\n",
        "             MPI_COMM_WORLD);\n",
        "\n",
        "  // The standard deviation is the square root of the mean of the squared\n",
        "  // differences.\n",
        "  if (world_rank == 0) {\n",
        "    float stddev = sqrt(global_sq_diff /\n",
        "                        (num_elements_per_proc * world_size));\n",
        "    printf(\"Mean - %f, Standard deviation = %f\\n\", mean, stddev);\n",
        "  }\n",
        "\n",
        "  // Clean up\n",
        "  free(rand_nums);\n",
        "\n",
        "  MPI_Barrier(MPI_COMM_WORLD);\n",
        "  MPI_Finalize();\n",
        "}"
      ],
      "metadata": {
        "id": "pSI5rfRBUN1G"
      },
      "execution_count": null,
      "outputs": []
    },
    {
      "cell_type": "markdown",
      "source": [
        "**EXERCÍCIO 2**\n",
        "\n",
        "Compile e teste o programa acima. "
      ],
      "metadata": {
        "id": "r5UIHVqmU8-J"
      }
    },
    {
      "cell_type": "code",
      "source": [
        "#IMPLEMENTE SEU CÓDIGO AQUI"
      ],
      "metadata": {
        "id": "NdrPnuVbXlJP"
      },
      "execution_count": null,
      "outputs": []
    },
    {
      "cell_type": "markdown",
      "source": [
        "**EXERCÍCIO 3**\n",
        "\n",
        "Refatore o código pi_send_receive.c para utilizar a primitiva MPI_Reduce ao invés de MPI_Send e MPI_Recv."
      ],
      "metadata": {
        "id": "AHkjhUWyWjUr"
      }
    },
    {
      "cell_type": "code",
      "source": [
        "#IMPLEMENTE SEU CÓDIGO AQUI"
      ],
      "metadata": {
        "id": "618kHE4AW2lD"
      },
      "execution_count": null,
      "outputs": []
    },
    {
      "cell_type": "markdown",
      "source": [
        "**EXERCÍCIO 4**\n",
        "\n",
        "Refatore o código anterior produzindo um código paralelo híbrido:\n",
        "\n",
        "*   O nodo-mestre calculará o números de pontos via OpenMP com 16 threads\n",
        "*   Os resultados dos nodos-escravos serão coletados via MPI_Reduce e reduzidos no nodo-mestre.\n",
        "\n",
        "\n"
      ],
      "metadata": {
        "id": "R0OsZlrQW-Wn"
      }
    },
    {
      "cell_type": "code",
      "source": [
        "#IMPLEMENTE SEU CÓDIGO AQUI"
      ],
      "metadata": {
        "id": "5esbaifjXiD7"
      },
      "execution_count": null,
      "outputs": []
    }
  ]
}