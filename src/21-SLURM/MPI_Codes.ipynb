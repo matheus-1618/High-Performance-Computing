{
  "cells": [
    {
      "cell_type": "code",
      "source": [
        "%%writefile serial.cpp\n",
        "#include <iostream>\n",
        "using namespace std;\n",
        "\n",
        "int main(){\n",
        "  int i; nb_rec = 10000000;\n",
        "  double x, n, sum = 0.0, pi 0.0;\n",
        "  h = 1.0 / nb_rec;\n",
        "  for (i = 0; i<nb_rec; i++){\n",
        "    x = (i+0.5)*h;\n",
        "    sum += 4.0 / (1.0 + x*x);\n",
        "  }\n",
        "  pi = h * sum;\n",
        "  cout << \" O Valor aproximado de PI é: \" << pi << endl;\n",
        "  return 0;\n",
        "}"
      ],
      "metadata": {
        "id": "nXfdO1Z9-c05",
        "outputId": "9deca554-50fc-45d8-83f7-b15f1420a9cd",
        "colab": {
          "base_uri": "https://localhost:8080/"
        }
      },
      "execution_count": 4,
      "outputs": [
        {
          "output_type": "stream",
          "name": "stdout",
          "text": [
            "Writing serial.cpp\n"
          ]
        }
      ]
    },
    {
      "cell_type": "code",
      "source": [
        "!g++ -Wall -O3 serial.cpp -o serial"
      ],
      "metadata": {
        "id": "WWjQ6d1zVm7n"
      },
      "execution_count": null,
      "outputs": []
    },
    {
      "cell_type": "code",
      "source": [
        "%%writefile serial.slurm\n",
        "#!/bin/bash\n",
        "#SBATCH -N 1\n",
        "#SBATCH --time=00:10:00\n",
        "#SBATCH --partition=normal\n",
        "\n",
        "./serial"
      ],
      "metadata": {
        "id": "WEn0hmR_UYQq",
        "outputId": "61aab445-12ba-44bb-83f6-aba914a51d3e",
        "colab": {
          "base_uri": "https://localhost:8080/"
        }
      },
      "execution_count": 6,
      "outputs": [
        {
          "output_type": "stream",
          "name": "stdout",
          "text": [
            "Writing serial.slurm\n"
          ]
        }
      ]
    },
    {
      "cell_type": "code",
      "source": [
        "%%writefile point_to_point.cpp\n",
        "#include <iostream>\n",
        "#include <mpi.h>\n",
        "using namespace std;\n",
        "\n",
        "int main(){\n",
        "  int i, nb_rec = 10000000;\n",
        "  double x, h, pi =  0.0;\n",
        "  int myRank, size, tag = 10;\n",
        "  int retangulos;\n",
        "  int meu_inicio=0, meu_fim=0;\n",
        "  double minha_soma = 0.0;\n",
        "  MPI_Init(NULL,NULL);\n",
        "  MPI_Comm_rank(MPI_COMM_WORLD,&myRank);\n",
        "  MPI_Comm_size(MPI_COMM_WORLD,&size);\n",
        "  MPI_Status status;\n",
        "  if (myRank == 0) {\n",
        "      retangulos = nb_rec / size;\n",
        "      for (i = 1; i < size; i++){\n",
        "        MPI_Send(&retangulos, 1, MPI_INT, i, tag, MPI_COMM_WORLD);\n",
        "      }\n",
        "\n",
        "  }\n",
        "  else{\n",
        "    MPI_Recv(&retangulos,1, MPI_INT, 0 ,tag, MPI_COMM_WORLD,&status);\n",
        "  }\n",
        "\n",
        "  h = 1.0 / (retangulos * size);\n",
        "  meu_inicio = myRank * retangulos;\n",
        "  meu_fim = meu_inicio+retangulos;\n",
        "  for (i = meu_inicio; i < meu_fim; i++){\n",
        "    x = (i+0.5)*h;\n",
        "    minha_soma += 4.0 / (1.0+x*x);\n",
        "  }\n",
        "  if (myRank != 0){\n",
        "    MPI_Send(&minha_soma,1,MPI_DOUBLE,0,tag,MPI_COMM_WORLD);\n",
        "  }\n",
        "  else{\n",
        "    for (i = 1; i<size;i++){\n",
        "      MPI_Recv(&pi,1,MPI_DOUBLE,MPI_ANY_SOURCE,tag,MPI_COMM_WORLD,&status);\n",
        "      minha_soma = minha_soma + pi;\n",
        "    }\n",
        "    pi = h* minha_soma;\n",
        "    cout << \" O valor aproximado de  PI é: \" << pi << endl;\n",
        "  }\n",
        "  MPI_Finalize();\n",
        "  return 0;\n",
        "}"
      ],
      "metadata": {
        "id": "UpTbTpNdH8au",
        "outputId": "c0bf110d-6148-4533-9c79-ace09d4bab4c",
        "colab": {
          "base_uri": "https://localhost:8080/"
        }
      },
      "execution_count": 7,
      "outputs": [
        {
          "output_type": "stream",
          "name": "stdout",
          "text": [
            "Overwriting point_to_point.cpp\n"
          ]
        }
      ]
    },
    {
      "cell_type": "code",
      "source": [
        "!mpic++ -o point_to_point point_to_point.cpp"
      ],
      "metadata": {
        "id": "aU_CGZ9aVdtD"
      },
      "execution_count": 8,
      "outputs": []
    },
    {
      "cell_type": "code",
      "source": [
        "%%writefile point_to_point.slurm\n",
        "#!/bin/bash\n",
        "#SBATCH -n 5\n",
        "\n",
        "mpirun --allow-run-as-root -np 5 ./point_to_point"
      ],
      "metadata": {
        "id": "mJQ71nkeU22O",
        "outputId": "2cd9509f-1846-42f6-dbc2-e4257e77fbd6",
        "colab": {
          "base_uri": "https://localhost:8080/"
        }
      },
      "execution_count": 9,
      "outputs": [
        {
          "output_type": "stream",
          "name": "stdout",
          "text": [
            "Writing point_to_point.slurm\n"
          ]
        }
      ]
    },
    {
      "cell_type": "code",
      "source": [
        "%%writefile broadcast.cpp\n",
        "#include <iostream>\n",
        "#include <mpi.h>\n",
        "using namespace std;\n",
        "\n",
        "int main(){\n",
        "  int i, nb_rec = 10000000;\n",
        "  double x, h, pi =  0.0;\n",
        "  int myRank, size, tag = 10;\n",
        "  int retangulos;\n",
        "  int meu_inicio, meu_fim;\n",
        "  double minha_soma = 0.0;\n",
        "  MPI_Init(NULL,NULL);\n",
        "  MPI_Comm_rank(MPI_COMM_WORLD,&myRank);\n",
        "  MPI_Comm_size(MPI_COMM_WORLD,&size);\n",
        "  MPI_Status status;\n",
        "  if (myRank == 0) {\n",
        "      retangulos = nb_rec / size;\n",
        "  }\n",
        "  MPI_Bcast(&retangulos,1,MPI_INT,0,MPI_COMM_WORLD);\n",
        "\n",
        "  h = 1.0 / (retangulos * size);\n",
        "  pi = h*minha_soma;\n",
        "  meu_inicio = myRank * retangulos;\n",
        "  meu_fim = meu_inicio+retangulos;\n",
        "  for (i = meu_inicio; i < meu_fim; i++){\n",
        "    x = (i+0.5)*h;\n",
        "    minha_soma += 4.0 / (1.0+x*x);\n",
        "  }\n",
        " minha_soma = h*minha_soma;\n",
        "  MPI_Reduce(&minha_soma, &pi, 1, MPI_DOUBLE, MPI_SUM, 0, MPI_COMM_WORLD);\n",
        "    if (myRank == 0)\n",
        "    cout << \" O valor aproximado de  PI é: \" << pi << endl;\n",
        "  MPI_Finalize();\n",
        "  return 0;\n",
        "}"
      ],
      "metadata": {
        "id": "B8NTSXDQFw1F",
        "outputId": "7801f205-6795-484d-d32a-5ccf5f007927",
        "colab": {
          "base_uri": "https://localhost:8080/"
        }
      },
      "execution_count": 10,
      "outputs": [
        {
          "output_type": "stream",
          "name": "stdout",
          "text": [
            "Overwriting broadcast.cpp\n"
          ]
        }
      ]
    },
    {
      "cell_type": "code",
      "source": [
        "!mpic++ -o broadcast broadcast.cpp"
      ],
      "metadata": {
        "id": "ovV4hJJDVXW7"
      },
      "execution_count": 11,
      "outputs": []
    },
    {
      "cell_type": "code",
      "source": [
        "%%writefile broadcast.slurm\n",
        "#!/bin/bash\n",
        "#SBATCH -n 5\n",
        "\n",
        "mpirun --allow-run-as-root -np 5 ./broadcast"
      ],
      "metadata": {
        "id": "IFtLs_UOVLKL",
        "outputId": "0dba3c88-e7c3-451d-e4e3-32783f7ec225",
        "colab": {
          "base_uri": "https://localhost:8080/"
        }
      },
      "execution_count": 12,
      "outputs": [
        {
          "output_type": "stream",
          "name": "stdout",
          "text": [
            "Writing broadcast.slurm\n"
          ]
        }
      ]
    }
  ],
  "metadata": {
    "colab": {
      "name": "Welcome To Colaboratory",
      "toc_visible": true,
      "provenance": []
    },
    "kernelspec": {
      "display_name": "Python 3",
      "name": "python3"
    }
  },
  "nbformat": 4,
  "nbformat_minor": 0
}